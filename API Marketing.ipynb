{
 "cells": [
  {
   "cell_type": "markdown",
   "metadata": {},
   "source": [
    "# Сбор маркетинговых кампаний с Facebook"
   ]
  },
  {
   "cell_type": "code",
   "execution_count": 60,
   "metadata": {},
   "outputs": [],
   "source": [
    "from facebook_business.api import FacebookAdsApi\n",
    "from facebook_business.exceptions import FacebookRequestError\n",
    "from facebook_business.adobjects.adaccount import AdAccount\n",
    "from facebook_business.adobjects.adreportrun import AdReportRun\n",
    "from facebook_business.adobjects.adsinsights import AdsInsights\n",
    "from facebook_business.adobjects.campaign import Campaign\n",
    "from facebook_business.adobjects.adset import AdSet\n",
    "from facebook_business.adobjects.adaccountuser import AdAccountUser as AdUser\n",
    "from facebook_business import adobjects\n",
    "from matplotlib import pyplot as plt\n",
    "from pandas import DataFrame\n",
    "import time\n",
    "import datetime\n",
    "import csv"
   ]
  },
  {
   "cell_type": "code",
   "execution_count": 65,
   "metadata": {},
   "outputs": [],
   "source": [
    "my_app_id = '35607******9'\n",
    "my_app_secret = 'f37******a66bca6'\n",
    "my_access_token = 'EAAFD****ZC8ZD' #"
   ]
  },
  {
   "cell_type": "code",
   "execution_count": 66,
   "metadata": {},
   "outputs": [
    {
     "data": {
      "text/plain": [
       "<facebook_business.api.FacebookAdsApi at 0x1b572beb9c8>"
      ]
     },
     "execution_count": 66,
     "metadata": {},
     "output_type": "execute_result"
    }
   ],
   "source": [
    "FacebookAdsApi.init(my_app_id, my_app_secret, my_access_token)  # авторизуемся"
   ]
  },
  {
   "cell_type": "code",
   "execution_count": null,
   "metadata": {},
   "outputs": [],
   "source": [
    "me = AdUser(fbid='me')    # добавляем пользователя\n",
    "#me = AdAccount('https://www.facebook.com/pg/bbandburgers/')\n",
    "my_accounts = list(me.get_ad_accounts())     # данные по рекламным аккаунтам"
   ]
  },
  {
   "cell_type": "code",
   "execution_count": 44,
   "metadata": {},
   "outputs": [
    {
     "data": {
      "text/plain": [
       "[<AdAccount> {\n",
       "     \"account_id\": \"1242079709464075\",\n",
       "     \"id\": \"act_1242079709464075\"\n",
       " }]"
      ]
     },
     "execution_count": 44,
     "metadata": {},
     "output_type": "execute_result"
    }
   ],
   "source": [
    "my_accounts"
   ]
  },
  {
   "cell_type": "code",
   "execution_count": null,
   "metadata": {},
   "outputs": [],
   "source": [
    "my_account = my_accounts[0]\n",
    "campaigns = my_account.get_campaigns()  # информация о кампаниях"
   ]
  },
  {
   "cell_type": "code",
   "execution_count": null,
   "metadata": {},
   "outputs": [],
   "source": [
    "my_account.api_get(fields=[AdAccount.Field.amount_spent])  # получим затраты\n",
    "print(int(my_account[AdAccount.Field.amount_spent])/100)   # обрубить копейки"
   ]
  },
  {
   "cell_type": "code",
   "execution_count": 57,
   "metadata": {},
   "outputs": [],
   "source": [
    "# id кампании, количество кликов, затрат и просмотров\n",
    "fields = [\n",
    "    AdsInsights.Field.campaign_id,\n",
    "    AdsInsights.Field.clicks,\n",
    "    AdsInsights.Field.spend,\n",
    "    AdsInsights.Field.impressions]\n",
    "\n",
    "count = 0"
   ]
  },
  {
   "cell_type": "code",
   "execution_count": 32,
   "metadata": {},
   "outputs": [],
   "source": [
    "def wait_for_async_job(async_job):\n",
    "    global count\n",
    "    async_job = async_job.api_get()\n",
    "    while async_job[AdReportRun.Field.async_status] != 'Job Completed' or async_job[\n",
    "        AdReportRun.Field.async_percent_completion] < 100:\n",
    "        time.sleep(2)\n",
    "        async_job = async_job.api_get()\n",
    "    else:\n",
    "        print(\"Job \" + str(count) + \" completed\")\n",
    "        count += 1\n",
    "    return async_job.get_result(params={\"limit\": 1000})\n",
    "\n",
    "def get_insights(account, date_preset='last_3d'):\n",
    "    account = AdAccount(account[\"id\"])\n",
    "    i_async_job = account.get_insights(\n",
    "        params={\n",
    "            'level': 'ad',\n",
    "            'date_preset': date_preset,\n",
    "            'time_increment': 1},\n",
    "            fields=fields,\n",
    "            is_async=True)\n",
    "    results = [dict(item) for item in wait_for_async_job(i_async_job)]\n",
    "    return results"
   ]
  },
  {
   "cell_type": "code",
   "execution_count": null,
   "metadata": {},
   "outputs": [],
   "source": [
    "elem_insights = []\n",
    "insights_lists = []\n",
    "date_preset = 'last_year'\n",
    "for elem in my_accounts:\n",
    "    elem_insights = get_insights(elem, date_preset)\n",
    "    insights_lists.append(elem_insights)\n"
   ]
  },
  {
   "cell_type": "code",
   "execution_count": 49,
   "metadata": {},
   "outputs": [],
   "source": [
    "insight_campaign_id_list = []\n",
    "insight_clicks_list = []\n",
    "insight_spend_list = []\n",
    "insight_impressions_list = []\n",
    "insight_date_start_list = []\n",
    "insight_date_stop_list = []\n",
    "for elem1 in insights_lists:\n",
    "    for elem2 in elem1:\n",
    "        insight_campaign_id_list.append(int(elem2['campaign_id']))\n",
    "        insight_clicks_list.append(int(elem2['clicks']))\n",
    "        insight_spend_list.append(float(elem2['spend']))\n",
    "        insight_impressions_list.append(int(elem2['impressions']))\n",
    "        insight_date_start_list.append(elem2['date_start'])\n",
    "        insight_date_stop_list.append(elem2['date_stop'])\n"
   ]
  },
  {
   "cell_type": "code",
   "execution_count": 50,
   "metadata": {},
   "outputs": [],
   "source": [
    "df = DataFrame()\n",
    "df['campaign_id'] = insight_campaign_id_list\n",
    "df['clicks'] = insight_clicks_list\n",
    "df['spend'] = insight_spend_list\n",
    "df['impressions'] = insight_impressions_list\n",
    "df['date_start'] = insight_date_start_list\n",
    "df['date_stop'] = insight_date_stop_list\n"
   ]
  },
  {
   "cell_type": "code",
   "execution_count": 51,
   "metadata": {},
   "outputs": [
    {
     "data": {
      "text/html": [
       "<div>\n",
       "<style scoped>\n",
       "    .dataframe tbody tr th:only-of-type {\n",
       "        vertical-align: middle;\n",
       "    }\n",
       "\n",
       "    .dataframe tbody tr th {\n",
       "        vertical-align: top;\n",
       "    }\n",
       "\n",
       "    .dataframe thead th {\n",
       "        text-align: right;\n",
       "    }\n",
       "</style>\n",
       "<table border=\"1\" class=\"dataframe\">\n",
       "  <thead>\n",
       "    <tr style=\"text-align: right;\">\n",
       "      <th></th>\n",
       "      <th>campaign_id</th>\n",
       "      <th>clicks</th>\n",
       "      <th>spend</th>\n",
       "      <th>impressions</th>\n",
       "      <th>date_start</th>\n",
       "      <th>date_stop</th>\n",
       "    </tr>\n",
       "  </thead>\n",
       "  <tbody>\n",
       "  </tbody>\n",
       "</table>\n",
       "</div>"
      ],
      "text/plain": [
       "Empty DataFrame\n",
       "Columns: [campaign_id, clicks, spend, impressions, date_start, date_stop]\n",
       "Index: []"
      ]
     },
     "execution_count": 51,
     "metadata": {},
     "output_type": "execute_result"
    }
   ],
   "source": [
    "df"
   ]
  },
  {
   "cell_type": "code",
   "execution_count": null,
   "metadata": {},
   "outputs": [],
   "source": [
    "# Запись в таблицу SQL\n",
    "\n",
    "def ins(row):\n",
    "    db_campaign = row['campaign_id']\n",
    "    db_clicks = row['clicks']\n",
    "    db_spend = row['spend']\n",
    "    db_impressions = row['impressions']\n",
    "    db_date_start = row['date_start']\n",
    "    db_date_stop = row['date_stop']\n",
    "\n",
    "    sql = \"INSERT INTO likes ( campaign_id, clicks, spend, impressions, date_start, date_stop ) VALUES ( %s )\"\n",
    "    val = [(db_campaign, db_clicks, db_spend, db_impressions, db_date_start, db_date_stop)]\n",
    "\n",
    "    cursor = connection.cursor()\n",
    "    cursor.executemany(sql, val)\n",
    "    connection.commit()\n",
    "    return 'ok'\n",
    "\n",
    "df.apply(ins)"
   ]
  },
  {
   "cell_type": "code",
   "execution_count": null,
   "metadata": {},
   "outputs": [],
   "source": []
  },
  {
   "cell_type": "markdown",
   "metadata": {},
   "source": [
    "# DDL"
   ]
  },
  {
   "cell_type": "code",
   "execution_count": 68,
   "metadata": {},
   "outputs": [
    {
     "name": "stdout",
     "output_type": "stream",
     "text": [
      "The error '2003: Can't connect to MySQL server on 'localhost:3306' (10061 Подключение не установлено, т.к. конечный компьютер отверг запрос на подключение)' occurred\n"
     ]
    }
   ],
   "source": [
    "# Подключение к серверу MySQL. connection возвращает объект подключения.\n",
    "\n",
    "import mysql.connector\n",
    "from mysql.connector import Error\n",
    "\n",
    "def create_connection(host_name, user_name, user_password):\n",
    "    connection = None\n",
    "    try:\n",
    "        connection = mysql.connector.connect(\n",
    "            host=host_name,\n",
    "            user=user_name,\n",
    "            passwd=user_password\n",
    "        )\n",
    "        print(\"Connection to MySQL DB successful\")\n",
    "    except Error as e:\n",
    "        print(f\"The error '{e}' occurred\")\n",
    "\n",
    "    return connection\n",
    "\n",
    "connection = create_connection(\"localhost\", \"root\", \"\")"
   ]
  },
  {
   "cell_type": "code",
   "execution_count": null,
   "metadata": {},
   "outputs": [],
   "source": [
    "# Создание базы данных\n",
    "\n",
    "def create_database(connection, query):\n",
    "    cursor = connection.cursor()\n",
    "    try:\n",
    "        cursor.execute(query)\n",
    "        print(\"Database created successfully\")\n",
    "    except Error as e:\n",
    "        print(f\"The error '{e}' occurred\")\n",
    "        \n",
    "create_database_query = \"CREATE DATABASE facebook_insights\"\n",
    "create_database(connection, create_database_query)"
   ]
  },
  {
   "cell_type": "code",
   "execution_count": null,
   "metadata": {},
   "outputs": [],
   "source": [
    "# Подключение к базе данных\n",
    "\n",
    "def create_connection(host_name, user_name, user_password, db_name):\n",
    "    connection = None\n",
    "    try:\n",
    "        connection = mysql.connector.connect(\n",
    "            host=host_name,\n",
    "            user=user_name,\n",
    "            passwd=user_password,\n",
    "            database=db_name\n",
    "        )\n",
    "        print(\"Connection to MySQL DB successful\")\n",
    "    except Error as e:\n",
    "        print(f\"The error '{e}' occurred\")\n",
    "\n",
    "    return connection\n",
    "\n",
    "connection = create_connection(\"localhost\", \"root\", \"\", \"facebook_insights\")"
   ]
  },
  {
   "cell_type": "code",
   "execution_count": null,
   "metadata": {},
   "outputs": [],
   "source": [
    "# Создадим таблицу в БД facebook_insights\n",
    "\n",
    "def execute_query(connection, query):\n",
    "     cursor = connection.cursor()\n",
    "    try:\n",
    "        cursor.execute(query)\n",
    "        connection.commit()\n",
    "        print(\"Query executed successfully\")\n",
    "    except Error as e:\n",
    "        print(f\"The error '{e}' occurred\")\n",
    "\n",
    "create_users_table = \"\"\"\n",
    "CREATE TABLE IF NOT EXISTS users (\n",
    "  campaign_id INT NOT NULL, \n",
    "  clicks INT, \n",
    "  spend INT, \n",
    "  impressions INT, \n",
    "  date_start DATE,\n",
    "  date_stop DATE\n",
    ") ENGINE = InnoDB\n",
    "\"\"\"\n",
    "\n",
    "execute_query(connection, create_users_table)"
   ]
  },
  {
   "cell_type": "code",
   "execution_count": null,
   "metadata": {},
   "outputs": [],
   "source": []
  },
  {
   "cell_type": "code",
   "execution_count": null,
   "metadata": {},
   "outputs": [],
   "source": []
  }
 ],
 "metadata": {
  "kernelspec": {
   "display_name": "Python 3",
   "language": "python",
   "name": "python3"
  },
  "language_info": {
   "codemirror_mode": {
    "name": "ipython",
    "version": 3
   },
   "file_extension": ".py",
   "mimetype": "text/x-python",
   "name": "python",
   "nbconvert_exporter": "python",
   "pygments_lexer": "ipython3",
   "version": "3.7.4"
  }
 },
 "nbformat": 4,
 "nbformat_minor": 2
}
